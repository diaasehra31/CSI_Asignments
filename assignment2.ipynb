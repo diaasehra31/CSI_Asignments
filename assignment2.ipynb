{
  "nbformat": 4,
  "nbformat_minor": 0,
  "metadata": {
    "colab": {
      "provenance": []
    },
    "kernelspec": {
      "name": "python3",
      "display_name": "Python 3"
    },
    "language_info": {
      "name": "python"
    }
  },
  "cells": [
    {
      "cell_type": "code",
      "execution_count": 1,
      "metadata": {
        "colab": {
          "base_uri": "https://localhost:8080/"
        },
        "id": "uWYxf7AjVw0v",
        "outputId": "a356348c-aa0a-4352-cea3-395310dce364"
      },
      "outputs": [
        {
          "output_type": "stream",
          "name": "stdout",
          "text": [
            "Initial List:\n",
            "10 -> 20 -> 30 -> 40 -> None\n",
            "Deleting node with value: 30\n",
            "After deleting 3rd node:\n",
            "10 -> 20 -> 40 -> None\n",
            "Error: Index out of range.\n",
            "Error: Cannot delete from an empty list.\n"
          ]
        }
      ],
      "source": [
        "class Node:\n",
        "    def __init__(self, data):\n",
        "        self.data = data\n",
        "        self.next = None\n",
        "\n",
        "class LinkedList:\n",
        "    def __init__(self):\n",
        "        self.head = None\n",
        "\n",
        "    def add_to_end(self, data):\n",
        "        new_node = Node(data)\n",
        "        if not self.head:\n",
        "            self.head = new_node\n",
        "            return\n",
        "        curr = self.head\n",
        "        while curr.next:\n",
        "            curr = curr.next\n",
        "        curr.next = new_node\n",
        "\n",
        "    def print_list(self):\n",
        "        if not self.head:\n",
        "            print(\"List is empty.\")\n",
        "            return\n",
        "        curr = self.head\n",
        "        while curr:\n",
        "            print(curr.data, end=\" -> \")\n",
        "            curr = curr.next\n",
        "        print(\"None\")\n",
        "\n",
        "    def delete_nth_node(self, n):\n",
        "        try:\n",
        "            if not self.head:\n",
        "                raise Exception(\"Cannot delete from an empty list.\")\n",
        "            if n <= 0:\n",
        "                raise IndexError(\"Index should be 1 or greater.\")\n",
        "\n",
        "            if n == 1:\n",
        "                print(f\"Deleting node with value: {self.head.data}\")\n",
        "                self.head = self.head.next\n",
        "                return\n",
        "\n",
        "            curr = self.head\n",
        "            for i in range(n - 2):\n",
        "                if curr.next is None:\n",
        "                    raise IndexError(\"Index out of range.\")\n",
        "                curr = curr.next\n",
        "\n",
        "            if curr.next is None:\n",
        "                raise IndexError(\"Index out of range.\")\n",
        "\n",
        "            print(f\"Deleting node with value: {curr.next.data}\")\n",
        "            curr.next = curr.next.next\n",
        "\n",
        "        except Exception as e:\n",
        "            print(\"Error:\", e)\n",
        "\n",
        "ll = LinkedList()\n",
        "ll.add_to_end(10)\n",
        "ll.add_to_end(20)\n",
        "ll.add_to_end(30)\n",
        "ll.add_to_end(40)\n",
        "\n",
        "print(\"Initial List:\")\n",
        "ll.print_list()\n",
        "\n",
        "ll.delete_nth_node(3)\n",
        "print(\"After deleting 3rd node:\")\n",
        "ll.print_list()\n",
        "\n",
        "ll.delete_nth_node(10)\n",
        "\n",
        "empty_ll = LinkedList()\n",
        "empty_ll.delete_nth_node(1)\n"
      ]
    },
    {
      "cell_type": "code",
      "source": [],
      "metadata": {
        "id": "k6rA_jxnWE_d"
      },
      "execution_count": null,
      "outputs": []
    }
  ]
}